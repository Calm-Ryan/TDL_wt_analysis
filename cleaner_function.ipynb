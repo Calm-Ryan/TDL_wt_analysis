{
 "cells": [
  {
   "cell_type": "code",
   "execution_count": 1,
   "metadata": {},
   "outputs": [],
   "source": [
    "import pandas as pd\n",
    "import numpy as np\n",
    "\n",
    "import IPython\n",
    "import warnings\n",
    "from IPython import display\n",
    "warnings.filterwarnings('ignore')\n",
    "from subprocess import check_output\n",
    "%matplotlib inline"
   ]
  },
  {
   "cell_type": "code",
   "execution_count": 2,
   "metadata": {},
   "outputs": [],
   "source": [
    "data1 = pd.read_csv('wtdata_1_11_2011')"
   ]
  },
  {
   "cell_type": "code",
   "execution_count": 3,
   "metadata": {},
   "outputs": [],
   "source": [
    "data1 = data1.drop([0, 1])"
   ]
  },
  {
   "cell_type": "code",
   "execution_count": 4,
   "metadata": {},
   "outputs": [],
   "source": [
    "def cleaner(df):\n",
    "    \n",
    "    for i in df.index:\n",
    "        for j in df.columns:\n",
    "            if df.at[i,j] == '-':\n",
    "                df.at[i,j] = None\n",
    "            \n",
    "    df = df.drop(['Unnamed: 0'], axis=1)\n",
    "\n",
    "    New_columns = ['time', 'river_train', 'PoC', 'Jungle', 'BSM', 'SGallery', 'Beartheater', 'Steamship', 'Mt_Splash', 'HoneyHunt', 'Haunted', 'Alice', 'SmallWorld', 'Carousel', 'Cinderella', 'Pinocchio', 'Pan', 'Philharmagic', 'Snowhite', 'Dumbo', 'Coaster', 'Goofy', 'Cartoon', 'Startours', 'Mt_Space', 'Buzz', 'Monsters', 'Raceway', 'Starjet', 'Stitch', 'Average']\n",
    "\n",
    "    df.columns = New_columns"
   ]
  },
  {
   "cell_type": "code",
   "execution_count": 5,
   "metadata": {},
   "outputs": [],
   "source": [
    "cleaner(data1)"
   ]
  },
  {
   "cell_type": "code",
   "execution_count": null,
   "metadata": {},
   "outputs": [],
   "source": []
  }
 ],
 "metadata": {
  "kernelspec": {
   "display_name": "Python 3",
   "language": "python",
   "name": "python3"
  },
  "language_info": {
   "codemirror_mode": {
    "name": "ipython",
    "version": 3
   },
   "file_extension": ".py",
   "mimetype": "text/x-python",
   "name": "python",
   "nbconvert_exporter": "python",
   "pygments_lexer": "ipython3",
   "version": "3.6.4"
  }
 },
 "nbformat": 4,
 "nbformat_minor": 2
}
